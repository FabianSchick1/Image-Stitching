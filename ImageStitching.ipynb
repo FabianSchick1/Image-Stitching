{
 "cells": [
  {
   "cell_type": "markdown",
   "metadata": {},
   "source": [
    "### Imports"
   ]
  },
  {
   "cell_type": "code",
   "execution_count": 11,
   "metadata": {},
   "outputs": [],
   "source": [
    "import cv2 as cv\n",
    "import numpy as np"
   ]
  },
  {
   "attachments": {},
   "cell_type": "markdown",
   "metadata": {},
   "source": [
    "### Load Images"
   ]
  },
  {
   "cell_type": "code",
   "execution_count": 12,
   "metadata": {},
   "outputs": [
    {
     "name": "stdout",
     "output_type": "stream",
     "text": [
      "Image Pair 0: ./Sample_Images/fruit-basket.jpg | Shape: (363, 360, 3)\n",
      "Image Pair 0: ./Sample_Images/fruit-basket.jpg | Shape: (363, 360, 3)\n",
      "Image Pair 1: ./Sample_Images/fruit-basket2.jpg | Shape: (362, 416, 3)\n",
      "Image Pair 1: ./Sample_Images/fruit-basket2.jpg | Shape: (362, 416, 3)\n"
     ]
    }
   ],
   "source": [
    "image_paths = [\"./Sample_Images/fruit-basket.jpg\", \"./Sample_Images/fruit-basket2.jpg\"]\n",
    "images_rgb = []\n",
    "images_grayscale = []\n",
    "\n",
    "for idx, image_path in enumerate(image_paths):\n",
    "    img = cv.imread(image_path)\n",
    "    images_rgb.append(img)\n",
    "    images_grayscale.append(img)\n",
    "    print(f\"Image Pair {idx}: {image_path} | Shape: {images_rgb[idx].shape}\")\n",
    "    print(f\"Image Pair {idx}: {image_path} | Shape: {images_grayscale[idx].shape}\")"
   ]
  },
  {
   "attachments": {},
   "cell_type": "markdown",
   "metadata": {},
   "source": [
    "### Prepare Images"
   ]
  },
  {
   "cell_type": "code",
   "execution_count": 13,
   "metadata": {},
   "outputs": [
    {
     "name": "stdout",
     "output_type": "stream",
     "text": [
      "(362, 360, 3)\n",
      "(362, 416, 3)\n"
     ]
    }
   ],
   "source": [
    "if(images_rgb[0].shape[0] > images_rgb[1].shape[0]):\n",
    "    images_rgb[0] = images_rgb[0][:images_rgb[1].shape[0],:]\n",
    "    print(images_rgb[0].shape)\n",
    "    print(images_rgb[1].shape)\n",
    "elif(images_rgb[0].shape[0] < images_rgb[1].shape[0]):\n",
    "    images_rgb[1] = images_rgb[1][:images_rgb[0].shape[0],:]\n",
    "    print(\"okay\")"
   ]
  },
  {
   "attachments": {},
   "cell_type": "markdown",
   "metadata": {},
   "source": [
    "### Detect Features"
   ]
  },
  {
   "cell_type": "markdown",
   "metadata": {},
   "source": [
    "### Feature Matching"
   ]
  },
  {
   "cell_type": "markdown",
   "metadata": {},
   "source": [
    "### Image Transformation"
   ]
  },
  {
   "cell_type": "markdown",
   "metadata": {},
   "source": [
    "### Blending"
   ]
  },
  {
   "cell_type": "markdown",
   "metadata": {},
   "source": [
    "### Further Improvements"
   ]
  },
  {
   "cell_type": "markdown",
   "metadata": {},
   "source": [
    "### Show Images"
   ]
  },
  {
   "cell_type": "code",
   "execution_count": 14,
   "metadata": {},
   "outputs": [],
   "source": [
    "def show_images(images):\n",
    "    for idx, image in enumerate(images):\n",
    "        cv.imshow(f\"Image {idx}\", image)\n",
    "        cv.waitKey(0)\n",
    "        cv.destroyAllWindows()          \n",
    "show_images(images_rgb)\n"
   ]
  },
  {
   "cell_type": "markdown",
   "metadata": {},
   "source": [
    "### Show warped images"
   ]
  }
 ],
 "metadata": {
  "kernelspec": {
   "display_name": "Python 3",
   "language": "python",
   "name": "python3"
  },
  "language_info": {
   "codemirror_mode": {
    "name": "ipython",
    "version": 3
   },
   "file_extension": ".py",
   "mimetype": "text/x-python",
   "name": "python",
   "nbconvert_exporter": "python",
   "pygments_lexer": "ipython3",
   "version": "3.11.1"
  },
  "orig_nbformat": 4
 },
 "nbformat": 4,
 "nbformat_minor": 2
}
