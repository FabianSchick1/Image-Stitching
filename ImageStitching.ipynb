{
 "cells": [
  {
   "cell_type": "markdown",
   "metadata": {},
   "source": [
    "### Imports"
   ]
  },
  {
   "cell_type": "code",
   "execution_count": 18,
   "metadata": {},
   "outputs": [],
   "source": [
    "import cv2 as cv\n",
    "import numpy as np"
   ]
  },
  {
   "attachments": {},
   "cell_type": "markdown",
   "metadata": {},
   "source": [
    "### Load Images"
   ]
  },
  {
   "cell_type": "code",
   "execution_count": 24,
   "metadata": {},
   "outputs": [
    {
     "name": "stdout",
     "output_type": "stream",
     "text": [
      "Image Pair 0: ./Sample_Images/fruit-basket.jpg | Shape: (363, 360, 3)\n",
      "Image Pair 0: ./Sample_Images/fruit-basket.jpg | Shape: (363, 360)\n",
      "Image Pair 1: ./Sample_Images/fruit-basket2.jpg | Shape: (362, 416, 3)\n",
      "Image Pair 1: ./Sample_Images/fruit-basket2.jpg | Shape: (362, 416)\n"
     ]
    }
   ],
   "source": [
    "image_paths = [\"./Sample_Images/fruit-basket.jpg\", \"./Sample_Images/fruit-basket2.jpg\"]\n",
    "images_rgb = []\n",
    "images_grayscale = []\n",
    "\n",
    "for idx, image_path in enumerate(image_paths):\n",
    "    img = cv.imread(image_path)\n",
    "    temp = cv.cvtColor(img, cv.COLOR_BGR2RGB)\n",
    "    images_rgb.append(temp)\n",
    "    images_grayscale.append(cv.cvtColor(img, cv.COLOR_BGR2GRAY))\n",
    "    print(f\"Image Pair {idx}: {image_path} | Shape: {images_rgb[idx].shape}\")\n",
    "    print(f\"Image Pair {idx}: {image_path} | Shape: {images_grayscale[idx].shape}\")\n",
    "\n",
    "\n",
    "\n"
   ]
  },
  {
   "attachments": {},
   "cell_type": "markdown",
   "metadata": {},
   "source": [
    "### Prepare Images"
   ]
  },
  {
   "attachments": {},
   "cell_type": "markdown",
   "metadata": {},
   "source": [
    "### Detect Features"
   ]
  },
  {
   "cell_type": "markdown",
   "metadata": {},
   "source": [
    "### Feature Matching"
   ]
  },
  {
   "cell_type": "markdown",
   "metadata": {},
   "source": [
    "### Image Transformation"
   ]
  },
  {
   "cell_type": "markdown",
   "metadata": {},
   "source": [
    "### Blending"
   ]
  },
  {
   "cell_type": "markdown",
   "metadata": {},
   "source": [
    "### Further Improvements"
   ]
  },
  {
   "cell_type": "markdown",
   "metadata": {},
   "source": [
    "### Show Images"
   ]
  }
 ],
 "metadata": {
  "kernelspec": {
   "display_name": "Python 3",
   "language": "python",
   "name": "python3"
  },
  "language_info": {
   "codemirror_mode": {
    "name": "ipython",
    "version": 3
   },
   "file_extension": ".py",
   "mimetype": "text/x-python",
   "name": "python",
   "nbconvert_exporter": "python",
   "pygments_lexer": "ipython3",
   "version": "3.11.1"
  },
  "orig_nbformat": 4
 },
 "nbformat": 4,
 "nbformat_minor": 2
}
